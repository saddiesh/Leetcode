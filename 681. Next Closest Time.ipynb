{
 "cells": [
  {
   "cell_type": "markdown",
   "metadata": {},
   "source": [
    "Given a time represented in the format \"HH:MM\", form the next closest time by reusing the current digits. There is no limit on how many times a digit can be reused.\n",
    "\n",
    "You may assume the given input string is always valid. For example, \"01:34\", \"12:09\" are all valid. \"1:34\", \"12:9\" are all invalid.\n",
    "\n",
    "Example 1:\n",
    "\n",
    "Input: \"19:34\"\n",
    "Output: \"19:39\"\n",
    "Explanation: The next closest time choosing from digits 1, 9, 3, 4, is 19:39, which occurs 5 minutes later.  It is not 19:33, because this occurs 23 hours and 59 minutes later.\n",
    "Example 2:\n",
    "\n",
    "Input: \"23:59\"\n",
    "Output: \"22:22\"\n",
    "Explanation: The next closest time choosing from digits 2, 3, 5, 9, is 22:22. It may be assumed that the returned time is next day's time since it is smaller than the input time numerically."
   ]
  },
  {
   "cell_type": "code",
   "execution_count": 26,
   "metadata": {},
   "outputs": [],
   "source": [
    "import re\n",
    "time=\"13:26\""
   ]
  },
  {
   "cell_type": "code",
   "execution_count": 27,
   "metadata": {},
   "outputs": [],
   "source": [
    "def gettime(time):\n",
    "    num = set(re.findall(\"\\d\",time))\n",
    "    num = list(num)\n",
    "    num.sort()\n",
    "    numdict = {}\n",
    "    for i in range(len(num)-1):\n",
    "        numdict[num[i]] = num[i+1]\n",
    "    #print(numdict)\n",
    "\n",
    "    if time[-1] in numdict.keys() and int(time[-2]+numdict[time[-1]])<=60:\n",
    "        return time[:-1]+numdict[time[-1]]\n",
    "    elif time[-2] in numdict.keys() and int(numdict[time[-2]]+num[0])<=60:\n",
    "        return time[:-2]+numdict[time[-2]]+num[0]\n",
    "    elif time[1] in numdict.keys() and int(time[:1]+numdict[time[1]])<=24:\n",
    "        return time[:1]+numdict[time[1]]+\":\"+ num[0]+ num[0]\n",
    "    elif time[0] in numdict.keys() and int(numdict[time[0]]+num[0])<=24:\n",
    "        return numdict[time[0]]+num[0]+\":\"+ num[0]+ num[0]\n",
    "    else:\n",
    "        return num[0]+ num[0]+\":\"+ num[0]+ num[0]\n"
   ]
  },
  {
   "cell_type": "code",
   "execution_count": 28,
   "metadata": {},
   "outputs": [
    {
     "data": {
      "text/plain": [
       "'13:31'"
      ]
     },
     "execution_count": 28,
     "metadata": {},
     "output_type": "execute_result"
    }
   ],
   "source": [
    "gettime(time)"
   ]
  },
  {
   "cell_type": "code",
   "execution_count": null,
   "metadata": {},
   "outputs": [],
   "source": [
    "class Solution:\n",
    "    def nextClosestTime(self, time: 'str') -> 'str':\n",
    "        H, M = time.split(':')\n",
    "        \n",
    "        n = set()\n",
    "        n.add(time[0])\n",
    "        n.add(time[1])\n",
    "        n.add(time[3])\n",
    "        n.add(time[4])\n",
    "        \n",
    "        min_n = min(n)\n",
    "        m_tmrw = h_tmrw = min_n + min_n\n",
    "        m_today = h_today = None\n",
    "\n",
    "        # attempt to find next minute today\n",
    "        one = self.find_next(n, M[1], '0', '9')\n",
    "        if one:\n",
    "            m_today = M[0] + one\n",
    "        else:\n",
    "            ten = self.find_next(n, M[0], '0', '5')\n",
    "            if ten:\n",
    "                m_today = ten + min_n\n",
    "        \n",
    "        # attempt to find next hour today\n",
    "        if not m_today:\n",
    "            if H[0] < '2':\n",
    "                one = self.find_next(n, H[1], '0', '9')\n",
    "            else:\n",
    "                one = self.find_next(n, H[1], '0', '4')\n",
    "            if one:\n",
    "                h_today = H[0] + one\n",
    "            else:\n",
    "                ten = self.find_next(n, H[0], '0', '2')\n",
    "                if ten:\n",
    "                    h_today = ten + min_n            \n",
    "        \n",
    "        if m_today:\n",
    "            # if there is a later minute today\n",
    "            return H + ':' + m_today\n",
    "        elif h_today:\n",
    "            # if there is a later hour today\n",
    "            return h_today + ':' + m_tmrw\n",
    "        else:\n",
    "            # otherwise, return the minimum hour and minute tomorrow\n",
    "            return h_tmrw + ':' + m_tmrw\n",
    "        \n",
    "    def find_next(self, n, t, min_i, max_i):\n",
    "        return min([i for i in n if i > t and min_i <= i and i <= max_i], default=None)\n",
    "        "
   ]
  }
 ],
 "metadata": {
  "kernelspec": {
   "display_name": "Python 3",
   "language": "python",
   "name": "python3"
  },
  "language_info": {
   "codemirror_mode": {
    "name": "ipython",
    "version": 3
   },
   "file_extension": ".py",
   "mimetype": "text/x-python",
   "name": "python",
   "nbconvert_exporter": "python",
   "pygments_lexer": "ipython3",
   "version": "3.6.4"
  }
 },
 "nbformat": 4,
 "nbformat_minor": 2
}
