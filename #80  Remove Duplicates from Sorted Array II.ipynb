{
 "cells": [
  {
   "cell_type": "markdown",
   "metadata": {},
   "source": [
    "sorte array\n",
    "assume a[:i-1] satisfies the condition:\n",
    "    1.if a[i] == a[i-1] == a[i-2]:\n",
    "        do nothing\n",
    "    2.if a[i] == a[i-1] != a[i-2]:\n",
    "        a[length] = a[i]\n",
    "        length +=1\n",
    "    3.if a[i]!=a[i-1] ( alwasy has: a[i]!=a[i-2]):\n",
    "        a[length] = a[i]\n",
    "        length +=1    \n",
    "    merge 2/3 into a[i] != a[i-2]\n",
    "    \n",
    "    i-2>=0,i>=2, i starts from 2\n",
    "    length starts from 0\n",
    "base case:\n",
    "    i = 0:\n",
    "        a[length] = a[i]\n",
    "        length +=1\n",
    "    i =1:\n",
    "        a[length] = a[i]\n",
    "        length +=1\n",
    "    merge"
   ]
  },
  {
   "cell_type": "code",
   "execution_count": null,
   "metadata": {},
   "outputs": [],
   "source": [
    "class Solution:\n",
    "    def removeDuplicates(self, a: List[int]) -> int:\n",
    "        length =0\n",
    "        for i in range(len(a)):\n",
    "            if i==0 or i==1 or a[i]!=a[length-2]:\n",
    "                a[length] = a[i]\n",
    "                length += 1\n",
    "                \n",
    "        return length"
   ]
  }
 ],
 "metadata": {
  "kernelspec": {
   "display_name": "Python 3",
   "language": "python",
   "name": "python3"
  },
  "language_info": {
   "codemirror_mode": {
    "name": "ipython",
    "version": 3
   },
   "file_extension": ".py",
   "mimetype": "text/x-python",
   "name": "python",
   "nbconvert_exporter": "python",
   "pygments_lexer": "ipython3",
   "version": "3.6.2"
  }
 },
 "nbformat": 4,
 "nbformat_minor": 2
}
