{
 "cells": [
  {
   "cell_type": "markdown",
   "metadata": {},
   "source": [
    "assume already found the max length until a[i-1](global variable)\n",
    "and max length until a[i-1] contains a[i-1](need to be compute for each i)\n",
    "s1:first index same as a[i-1] continuously\n",
    "s2:the first index max length until a[i-1] contains a[i-1]\n",
    "\n",
    "maxlen = 0\n",
    "s2=0\n",
    "s1=0\n",
    "\n",
    "if a[i] == a[i-1]:\n",
    "    max(maxlen, i-s2+1)\n",
    "if s1>0 and a[i] != a[i-1] and a[i] != a[s1-1]:\n",
    "    s2=s1\n",
    "    s1 =i\n",
    "    max(maxlen, i-s2+1)\n",
    "if s1==0 and a[i] != a[i-1] :\n",
    "    s2=s1\n",
    "    s1 =i\n",
    "    max(maxlen, i-s2+1)    \n",
    "if s1>0 and a[i] != a[i-1] and a[i] == a[s1-1]:\n",
    "    s1 =i\n",
    "    max(maxlen, i-s2+1)   \n",
    "if s1==0 and a[i] != a[i-1] (and a[i] == a[s1-1]):\n",
    "    s1 =i\n",
    "    max(maxlen, i-s2+1)     \n",
    "\n",
    "\n",
    "s1-1>=0, s1>=1\n",
    "\n",
    "basecase:\n",
    "if i==0:\n",
    "    s1 = i\n",
    "\n",
    "\n",
    "\n"
   ]
  },
  {
   "cell_type": "code",
   "execution_count": null,
   "metadata": {},
   "outputs": [],
   "source": [
    "class Solution:\n",
    "    def lengthOfLongestSubstringTwoDistinct(self, a: str) -> int:\n",
    "        if not a:\n",
    "            return 0\n",
    "        for i in range(len(a)):\n",
    "            if i ==0:\n",
    "                maxlen=1\n",
    "                s2=0\n",
    "                s1=0\n",
    "            if a[i]!=a[i-1] and ((s1>0 and a[i]!=a[s1-1]) or s1==0):\n",
    "                s2=s1\n",
    "            if s1>=0 and a[i] != a[i-1]:\n",
    "                s1 = i\n",
    "            maxlen = max(maxlen,i-s2+1)\n",
    "            \n",
    "        return maxlen\n",
    "                "
   ]
  }
 ],
 "metadata": {
  "kernelspec": {
   "display_name": "Python 3",
   "language": "python",
   "name": "python3"
  },
  "language_info": {
   "codemirror_mode": {
    "name": "ipython",
    "version": 3
   },
   "file_extension": ".py",
   "mimetype": "text/x-python",
   "name": "python",
   "nbconvert_exporter": "python",
   "pygments_lexer": "ipython3",
   "version": "3.6.2"
  }
 },
 "nbformat": 4,
 "nbformat_minor": 2
}
