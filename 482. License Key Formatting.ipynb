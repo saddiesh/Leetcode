{
 "cells": [
  {
   "cell_type": "markdown",
   "metadata": {},
   "source": [
    "You are given a license key represented as a string S which consists only alphanumeric character and dashes. The string is separated into N+1 groups by N dashes.\n",
    "\n",
    "Given a number K, we would want to reformat the strings such that each group contains exactly K characters, except for the first group which could be shorter than K, but still must contain at least one character. Furthermore, there must be a dash inserted between two groups and all lowercase letters should be converted to uppercase.\n",
    "\n",
    "Given a non-empty string S and a number K, format the string according to the rules described above.\n",
    "\n",
    "Example 1:\n",
    "Input: S = \"5F3Z-2e-9-w\", K = 4\n",
    "\n",
    "Output: \"5F3Z-2E9W\"\n",
    "\n",
    "Explanation: The string S has been split into two parts, each part has 4 characters.\n",
    "Note that the two extra dashes are not needed and can be removed.\n",
    "Example 2:\n",
    "Input: S = \"2-5g-3-J\", K = 2\n",
    "\n",
    "Output: \"2-5G-3J\"\n",
    "\n",
    "Explanation: The string S has been split into three parts, each part has 2 characters except the first part as it could be shorter as mentioned above.\n",
    "Note:\n",
    "The length of string S will not exceed 12,000, and K is a positive integer.\n",
    "String S consists only of alphanumerical characters (a-z and/or A-Z and/or 0-9) and dashes(-).\n",
    "String S is non-empty."
   ]
  },
  {
   "cell_type": "code",
   "execution_count": null,
   "metadata": {},
   "outputs": [],
   "source": [
    "class Solution:\n",
    "    def licenseKeyFormatting(self, S: str, K: int) -> str:\n",
    "        nums = re.findall('[A-Za-z0-9]+', S)\n",
    "        nums = ''.join(nums).upper()\n",
    "        print(nums)\n",
    "        first = len(nums) % K\n",
    "        group = len(nums) // K\n",
    "        res = nums[0:first] + \"-\"\n",
    "        for i in range(group):\n",
    "            res += nums[first+i*K : first+(i+1)*K]+\"\"\n",
    "            res +=\"-\"\n",
    "        return res.strip(\"-\")"
   ]
  },
  {
   "cell_type": "code",
   "execution_count": null,
   "metadata": {},
   "outputs": [],
   "source": [
    "class Solution:\n",
    "    def licenseKeyFormatting(self, S, K):\n",
    "        \"\"\"\n",
    "        :type S: str\n",
    "        :type K: int\n",
    "        :rtype: str\n",
    "        \"\"\"\n",
    "        S = S.upper().replace(\"-\", \"\")[::-1]\n",
    "        S = '-'.join([S[i:i + K] for i in range(0, len(S), K)])\n",
    "        return S[::-1]"
   ]
  }
 ],
 "metadata": {
  "kernelspec": {
   "display_name": "Python 3",
   "language": "python",
   "name": "python3"
  },
  "language_info": {
   "codemirror_mode": {
    "name": "ipython",
    "version": 3
   },
   "file_extension": ".py",
   "mimetype": "text/x-python",
   "name": "python",
   "nbconvert_exporter": "python",
   "pygments_lexer": "ipython3",
   "version": "3.6.4"
  }
 },
 "nbformat": 4,
 "nbformat_minor": 2
}
