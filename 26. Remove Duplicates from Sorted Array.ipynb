{
 "cells": [
  {
   "cell_type": "markdown",
   "metadata": {},
   "source": [
    "sorted array\n",
    "assume a[:i-1] has no duplicates\n",
    "length = 0\n",
    "if a[i] == a[i-1]:\n",
    "    do nothing\n",
    "if a[i] != a[i-1]:\n",
    "    a[length] = a[i]\n",
    "    length +=1\n",
    "\n",
    "i-1>=0; i starts from 1\n",
    "length starts from 0\n",
    "\n",
    "basecase:\n",
    "    i = 0:\n",
    "        a[length] = a[i]\n",
    "        length += 1\n",
    "        \n",
    "    merge into second if\n",
    "\n",
    "        \n",
    "        "
   ]
  },
  {
   "cell_type": "code",
   "execution_count": null,
   "metadata": {},
   "outputs": [],
   "source": [
    "class Solution:\n",
    "    def removeDuplicates(self, a: List[int]) -> int:\n",
    "        length = 0\n",
    "        for i in range(len(a)):\n",
    "            if a[i] != a[i-1] or i ==0:\n",
    "                a[length] = a[i]\n",
    "                length += 1\n",
    "        return length"
   ]
  }
 ],
 "metadata": {
  "kernelspec": {
   "display_name": "Python 3",
   "language": "python",
   "name": "python3"
  },
  "language_info": {
   "codemirror_mode": {
    "name": "ipython",
    "version": 3
   },
   "file_extension": ".py",
   "mimetype": "text/x-python",
   "name": "python",
   "nbconvert_exporter": "python",
   "pygments_lexer": "ipython3",
   "version": "3.6.2"
  }
 },
 "nbformat": 4,
 "nbformat_minor": 2
}
