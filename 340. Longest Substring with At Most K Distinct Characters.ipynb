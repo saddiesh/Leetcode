{
 "cells": [
  {
   "cell_type": "markdown",
   "metadata": {},
   "source": [
    "Given a string, find the length of the longest substring T that contains at most k distinct characters.\n",
    "\n",
    "Example 1:\n",
    "\n",
    "Input: s = \"eceba\", k = 2\n",
    "Output: 3\n",
    "Explanation: T is \"ece\" which its length is 3.\n",
    "Example 2:\n",
    "\n",
    "Input: s = \"aa\", k = 1\n",
    "Output: 2\n",
    "Explanation: T is \"aa\" which its length is 2."
   ]
  },
  {
   "cell_type": "code",
   "execution_count": 41,
   "metadata": {},
   "outputs": [],
   "source": [
    "s = 'abaccc'\n",
    "k = 2"
   ]
  },
  {
   "cell_type": "code",
   "execution_count": 42,
   "metadata": {},
   "outputs": [
    {
     "name": "stdout",
     "output_type": "stream",
     "text": [
      "i: a\n",
      "max: 1\n",
      "ls: a\n",
      "{'a': 1}\n",
      "dist: 1\n",
      "i: b\n",
      "max: 2\n",
      "ls: ab\n",
      "{'a': 1, 'b': 1}\n",
      "dist: 2\n",
      "i: a\n",
      "max: 3\n",
      "ls: aba\n",
      "{'a': 2, 'b': 1}\n",
      "dist: 2\n",
      "i: c\n",
      "ls: ac\n",
      "{'a': 1, 'c': 1}\n",
      "dist: 2\n",
      "i: c\n",
      "max: 3\n",
      "ls: acc\n",
      "{'a': 1, 'c': 2}\n",
      "dist: 2\n",
      "i: c\n",
      "max: 4\n",
      "ls: accc\n",
      "{'a': 1, 'c': 3}\n",
      "dist: 2\n"
     ]
    }
   ],
   "source": [
    "ls=\"\"\n",
    "dist=0\n",
    "dic={}\n",
    "smax=0\n",
    "for i in s:\n",
    "    print(\"i:\",i)\n",
    "    if i in dic and dic[i]!=0:\n",
    "        ls += i\n",
    "        dic[i]+=1\n",
    "    else:\n",
    "        dic[i] = 1\n",
    "        dist += 1\n",
    "        ls+=i\n",
    "    if dist<=k:\n",
    "        leng=len(ls)\n",
    "        smax=leng if leng>smax else smax\n",
    "        print(\"max:\",smax)\n",
    "    while dist>k:\n",
    "        dic[ls[0]] -= 1\n",
    "        if dic[ls[0]]==0:\n",
    "            dic.pop(ls[0])\n",
    "        ls=ls[1:]\n",
    "        dist = len(dic.items())\n",
    "    print(\"ls:\",ls)\n",
    "    print(dic)\n",
    "    print(\"dist:\",dist)\n",
    "    \n",
    "            "
   ]
  },
  {
   "cell_type": "code",
   "execution_count": 43,
   "metadata": {},
   "outputs": [
    {
     "data": {
      "text/plain": [
       "4"
      ]
     },
     "execution_count": 43,
     "metadata": {},
     "output_type": "execute_result"
    }
   ],
   "source": [
    "class Solution:\n",
    "    def lengthOfLongestSubstringKDistinct(self, s: str, k: int) -> int:\n",
    "        if k==0 or s==\"\":\n",
    "            return 0\n",
    "        ls=\"\"\n",
    "        dist=0\n",
    "        dic={}\n",
    "        smax=0\n",
    "        for i in s:\n",
    "            if i in dic and dic[i]!=0:\n",
    "                ls += i\n",
    "                dic[i]+=1\n",
    "            else:\n",
    "                dic[i] = 1\n",
    "                dist += 1\n",
    "                ls+=i\n",
    "            if dist<=k:\n",
    "                leng=len(ls)\n",
    "                smax=leng if leng>smax else smax\n",
    "            while dist>k:\n",
    "                dic[ls[0]] -= 1\n",
    "                if dic[ls[0]]==0:\n",
    "                    dic.pop(ls[0])\n",
    "                ls=ls[1:]\n",
    "                dist = len(dic.items())\n",
    "        return smax\n",
    "    "
   ]
  },
  {
   "cell_type": "code",
   "execution_count": 45,
   "metadata": {},
   "outputs": [
    {
     "name": "stdout",
     "output_type": "stream",
     "text": [
      "1 defaultdict(<class 'int'>, {'a': 1})\n",
      "2 defaultdict(<class 'int'>, {'a': 1, 'b': 1})\n",
      "2 defaultdict(<class 'int'>, {'a': 2, 'b': 1})\n",
      "3 defaultdict(<class 'int'>, {'a': 2, 'b': 1, 'd': 1})\n",
      "3 defaultdict(<class 'int'>, {'a': 2, 'b': 1, 'd': 2})\n",
      "4 defaultdict(<class 'int'>, {'a': 1, 'b': 1, 'd': 2, 'e': 1})\n",
      "4 defaultdict(<class 'int'>, {'a': 1, 'b': 0, 'd': 2, 'e': 1, 'c': 1})\n"
     ]
    },
    {
     "data": {
      "text/plain": [
       "5"
      ]
     },
     "execution_count": 45,
     "metadata": {},
     "output_type": "execute_result"
    }
   ],
   "source": [
    "\n",
    "import collections\n",
    "class Solution:\n",
    "    def lengthOfLongestSubstringKDistinct(self, s: str, k: int) -> int:\n",
    "        l = distinct = 0\n",
    "        cnt = collections.defaultdict(int)\n",
    "        for c in s:\n",
    "            cnt[c] += 1\n",
    "            if cnt[c] == 1:\n",
    "                distinct += 1\n",
    "            if distinct > k:\n",
    "                cnt[s[l]] -= 1\n",
    "                if not cnt[s[l]]:\n",
    "                    distinct -= 1\n",
    "                l += 1\n",
    "            print(distinct,cnt)\n",
    "        return len(s) - l\n",
    "ss=Solution()\n",
    "ss.lengthOfLongestSubstringKDistinct(\"abaddec\",3)"
   ]
  },
  {
   "cell_type": "code",
   "execution_count": null,
   "metadata": {},
   "outputs": [],
   "source": []
  }
 ],
 "metadata": {
  "kernelspec": {
   "display_name": "Python 3",
   "language": "python",
   "name": "python3"
  },
  "language_info": {
   "codemirror_mode": {
    "name": "ipython",
    "version": 3
   },
   "file_extension": ".py",
   "mimetype": "text/x-python",
   "name": "python",
   "nbconvert_exporter": "python",
   "pygments_lexer": "ipython3",
   "version": "3.6.4"
  }
 },
 "nbformat": 4,
 "nbformat_minor": 2
}
