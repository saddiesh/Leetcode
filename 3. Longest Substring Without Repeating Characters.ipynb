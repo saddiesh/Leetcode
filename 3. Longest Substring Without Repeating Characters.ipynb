{
 "cells": [
  {
   "cell_type": "markdown",
   "metadata": {},
   "source": [
    "assume a[:i-1] has no repeating characters with the start index s1\n",
    "\n",
    "dict={}\n",
    "dict[a[i]] =i\n",
    " if a[i] not in a[s1:i]:\n",
    "        dict[a[i]] =i\n",
    "        max(maxlen, i-s1+1)\n",
    " if a[i] in a[s1:i]:\n",
    "    ind = dict[a[i]]\n",
    "    dict[a[i]] =i\n",
    "    s1 = ind+1\n",
    "    max(maxlen, i-s1+1)\n",
    "\n",
    "variable:\n",
    "    hash - record the latest index a unique character is in\n",
    "    maxlen starts from 0\n",
    "    i starts from 0\n",
    "    s1 starts from 0\n",
    "\n",
    "basecase:\n",
    "    a is none\n",
    "    a = 0:\n",
    "        s1 =0\n",
    "        maxlen =1（i-s1+1）#merge into second if"
   ]
  }
 ],
 "metadata": {
  "kernelspec": {
   "display_name": "Python 3",
   "language": "python",
   "name": "python3"
  },
  "language_info": {
   "codemirror_mode": {
    "name": "ipython",
    "version": 3
   },
   "file_extension": ".py",
   "mimetype": "text/x-python",
   "name": "python",
   "nbconvert_exporter": "python",
   "pygments_lexer": "ipython3",
   "version": "3.6.2"
  }
 },
 "nbformat": 4,
 "nbformat_minor": 2
}
