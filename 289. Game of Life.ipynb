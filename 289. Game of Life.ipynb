{
 "cells": [
  {
   "cell_type": "markdown",
   "metadata": {},
   "source": [
    "According to the Wikipedia's article: \"The Game of Life, also known simply as Life, is a cellular automaton devised by the British mathematician John Horton Conway in 1970.\"\n",
    "\n",
    "Given a board with m by n cells, each cell has an initial state live (1) or dead (0). Each cell interacts with its eight neighbors (horizontal, vertical, diagonal) using the following four rules (taken from the above Wikipedia article):\n",
    "\n",
    "Any live cell with fewer than two live neighbors dies, as if caused by under-population.\n",
    "Any live cell with two or three live neighbors lives on to the next generation.\n",
    "Any live cell with more than three live neighbors dies, as if by over-population..\n",
    "Any dead cell with exactly three live neighbors becomes a live cell, as if by reproduction.\n",
    "Write a function to compute the next state (after one update) of the board given its current state. The next state is created by applying the above rules simultaneously to every cell in the current state, where births and deaths occur simultaneously.\n",
    "\n",
    "Example:\n",
    "\n",
    "Input: \n",
    "[\n",
    "  [0,1,0],\n",
    "  [0,0,1],\n",
    "  [1,1,1],\n",
    "  [0,0,0]\n",
    "]\n",
    "Output: \n",
    "[\n",
    "  [0,0,0],\n",
    "  [1,0,1],\n",
    "  [0,1,1],\n",
    "  [0,1,0]\n",
    "]\n",
    "Follow up:\n",
    "\n",
    "Could you solve it in-place? Remember that the board needs to be updated at the same time: You cannot update some cells first and then use their updated values to update other cells.\n",
    "In this question, we represent the board using a 2D array. In principle, the board is infinite, which would cause problems when the active area encroaches the border of the array. How would you address these problems?"
   ]
  },
  {
   "cell_type": "code",
   "execution_count": null,
   "metadata": {},
   "outputs": [],
   "source": [
    "class Solution:\n",
    "    def gameOfLife(self, board: List[List[int]]) -> None:\n",
    "        \"\"\"\n",
    "        Do not return anything, modify board in-place instead.\n",
    "        \"\"\"\n",
    "        def count_neib(board, i, j):\n",
    "            sum = 0\n",
    "            for row in range(i-1,i+2):\n",
    "                for col in range(j-1,j+2):\n",
    "                    if 0<=row<len(board) and 0<=col<len(board[0]):\n",
    "                        sum += board[row][col] % 10\n",
    "            return sum - board[i][j] % 10\n",
    "        \n",
    "        for i in range(len(board)):\n",
    "            for j in range(len(board[0])):\n",
    "                count = count_neib(board, i, j)\n",
    "                \n",
    "                if board[i][j] ==0 and count ==3:\n",
    "                    board[i][j] = 10\n",
    "                if board[i][j] ==1 and 2<=count<=3:\n",
    "                    board[i][j] += 10\n",
    "                \n",
    "        for i in range(len(board)):\n",
    "            for j in range(len(board[0])):\n",
    "                board[i][j] = board[i][j]//10\n",
    "        \n",
    "                        \n"
   ]
  }
 ],
 "metadata": {
  "kernelspec": {
   "display_name": "Python 3",
   "language": "python",
   "name": "python3"
  },
  "language_info": {
   "codemirror_mode": {
    "name": "ipython",
    "version": 3
   },
   "file_extension": ".py",
   "mimetype": "text/x-python",
   "name": "python",
   "nbconvert_exporter": "python",
   "pygments_lexer": "ipython3",
   "version": "3.6.2"
  }
 },
 "nbformat": 4,
 "nbformat_minor": 2
}
