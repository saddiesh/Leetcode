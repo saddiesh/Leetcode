{
 "cells": [
  {
   "cell_type": "markdown",
   "metadata": {},
   "source": [
    "assume until i-1, we has c =count of total good subarrays; a[s1:i] longest subarray has k different intergers contains a[i-1];\n",
    "a[s2:i] shortest subarray has k different intergers contains a[i-1];\n",
    "chars: a dict records the latest ind of a char\n",
    "if len(chars)<k:\n",
    "    chars[a[i]] = i\n",
    "if len(chars>=k):   \n",
    "    if a[i] in a[s1:i]:\n",
    "        if a[i]==a[s2]:\n",
    "            s2+=1 \n",
    "            if s2 !=i:\n",
    "                UNTIL s2 ==char[a[s2]];s2+=1\n",
    "            count += s2-s1+1\n",
    "        if a[i]!=a[s2]:\n",
    "            count += s2-s1+1\n",
    "    if a[i] not in a[s1:i]:\n",
    "        s1 = s2+1\n",
    "        s2 +=1\n",
    "        if s2 !=i:\n",
    "            UNTIL s2 ==char[a[s2]];s2+=1\n",
    "        count += s2-s1+1\n",
    "    chars[a[i]] = i\n",
    "variables:\n",
    "    s1 = 0\n",
    "    s2 = 0\n",
    "    chars={}\n",
    "    count = 0\n",
    "    \n",
    "basecase:\n",
    "    if i = 0:\n",
    "        \n",
    "    if len[chars]==k-1 and a[i] not in chars:\n",
    "        s1=0\n",
    "        UNTIL s2 == char[a[s2]]; s2+=s1\n",
    "        chars[a[i]] = i\n",
    "    #merge into \n",
    "    \n",
    "time exceed\n",
    "\n",
    "            "
   ]
  },
  {
   "cell_type": "code",
   "execution_count": null,
   "metadata": {},
   "outputs": [],
   "source": [
    "assume until i-1, we has c =count of total good subarrays; a[s1:i] longest subarray has k different intergers contains a[i-1];\n",
    "a[s2:i] shortest subarray has k different intergers contains a[i-1];\n",
    "chars: a dict records the latest ind of a char\n",
    "    \n",
    "update:?\n",
    "    s1\n",
    "    s2\n",
    "    chars\n",
    "    count\n",
    "    \n",
    "chars[a[i]] = i    \n",
    "if len(chars)<k:\n",
    "    do nothing\n",
    "if len(chars)==k:\n",
    "    s2 = min(chars.values())\n",
    "    count += s2-s1+1\n",
    "if len(chars>k):\n",
    "        chars.pop(a[s2]\n",
    "        s1=s2+1\n",
    "        s2=min(chars.values())\n",
    "    count += s2-s1+1\n",
    "        \n",
    "        \n",
    "\n",
    "    \n",
    "    \n",
    "    \n",
    "    \n",
    "    "
   ]
  },
  {
   "cell_type": "code",
   "execution_count": null,
   "metadata": {},
   "outputs": [],
   "source": []
  }
 ],
 "metadata": {
  "kernelspec": {
   "display_name": "Python 3",
   "language": "python",
   "name": "python3"
  },
  "language_info": {
   "codemirror_mode": {
    "name": "ipython",
    "version": 3
   },
   "file_extension": ".py",
   "mimetype": "text/x-python",
   "name": "python",
   "nbconvert_exporter": "python",
   "pygments_lexer": "ipython3",
   "version": "3.6.2"
  }
 },
 "nbformat": 4,
 "nbformat_minor": 2
}
