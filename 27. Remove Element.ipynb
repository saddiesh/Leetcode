{
 "cells": [
  {
   "cell_type": "markdown",
   "metadata": {},
   "source": [
    "assume a[:i-1] satisfy the condition\n",
    "length\n",
    "1.a[i] == target:\n",
    "    do nothing\n",
    "2.a[i] != target:\n",
    "    a[length] = a[i]\n",
    "    length += 1\n",
    "3.i starts from 0;\n",
    "length starts from 0\n",
    "4.check base case:\n",
    "    i = 0:\n",
    "        same as 1/2\n",
    "        ->merge"
   ]
  },
  {
   "cell_type": "code",
   "execution_count": null,
   "metadata": {},
   "outputs": [],
   "source": [
    "class Solution:\n",
    "    def removeElement(self, a: List[int], target: int) -> int:\n",
    "        length = 0\n",
    "        \n",
    "        for i in range(len(a)):\n",
    "            if a[i] != target:\n",
    "                a[length] = a[i]\n",
    "                length += 1\n",
    "        \n",
    "        return length\n"
   ]
  }
 ],
 "metadata": {
  "kernelspec": {
   "display_name": "Python 3",
   "language": "python",
   "name": "python3"
  },
  "language_info": {
   "codemirror_mode": {
    "name": "ipython",
    "version": 3
   },
   "file_extension": ".py",
   "mimetype": "text/x-python",
   "name": "python",
   "nbconvert_exporter": "python",
   "pygments_lexer": "ipython3",
   "version": "3.6.2"
  }
 },
 "nbformat": 4,
 "nbformat_minor": 2
}
