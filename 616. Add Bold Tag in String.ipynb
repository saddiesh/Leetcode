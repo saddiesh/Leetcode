{
 "cells": [
  {
   "cell_type": "markdown",
   "metadata": {},
   "source": [
    "Given a string s and a list of strings dict, you need to add a closed pair of bold tag <b> and </b> to wrap the substrings in s that exist in dict. If two such substrings overlap, you need to wrap them together by only one pair of closed bold tag. Also, if two substrings wrapped by bold tags are consecutive, you need to combine them.\n",
    "Example 1:\n",
    "Input: \n",
    "s = \"abcxyz123\"\n",
    "dict = [\"abc\",\"123\"]\n",
    "Output:\n",
    "\"<b>abc</b>xyz<b>123</b>\"\n",
    "Example 2:\n",
    "Input: \n",
    "s = \"aaabbcc\"\n",
    "dict = [\"aaa\",\"aab\",\"bc\"]\n",
    "Output:\n",
    "\"<b>aaabbc</b>c\"\n",
    "Note:\n",
    "The given dict won't contain duplicates, and its length won't exceed 100.\n",
    "All the strings in input have length in range [1, 1000].\n"
   ]
  },
  {
   "cell_type": "code",
   "execution_count": null,
   "metadata": {},
   "outputs": [],
   "source": [
    "import re\n",
    "class Solution:\n",
    "    def addBoldTag(self, s: str, dict: List[str]) -> str:\n",
    "        res=\"\"\n",
    "        \n",
    "        if s==\"\":\n",
    "            return res\n",
    "        blist=[]\n",
    "        for ss in dict:\n",
    "            ind = s.find(ss,0)\n",
    "            while ind != -1:\n",
    "                blist.append((ind,ind+len(ss)))\n",
    "                ind = s.find(ss,ind+1)\n",
    "        #print(blist)\n",
    "\n",
    "        blist = sorted(blist, key=lambda tup:tup[0])\n",
    "        if blist==[]:\n",
    "            return s\n",
    "\n",
    "        i=0\n",
    "        while i < len(blist)-1:\n",
    "            #print(i)\n",
    "            if blist[i][0]<=blist[i+1][0]<=blist[i][1]:\n",
    "                blist[i]=(blist[i][0], max(blist[i+1][1],blist[i][1]))\n",
    "                blist.pop(i+1)\n",
    "                #print(blist)\n",
    "            else:\n",
    "                i+=1\n",
    "        #print(blist)\n",
    "\n",
    "        \n",
    "        if blist[0][0]!=0:\n",
    "            res+=s[0:blist[0][0]]\n",
    "        for i in range(len(blist)-1):\n",
    "            res+=\"<b>\"+s[blist[i][0]:blist[i][1]]+\"</b>\"+s[blist[i][1]:blist[i+1][0]]\n",
    "        res+=\"<b>\"+s[blist[-1][0]:blist[-1][1]]+\"</b>\"\n",
    "        if blist[-1][1]!=len(s):\n",
    "            res+=s[blist[-1][1]:]\n",
    "\n",
    "        return res"
   ]
  }
 ],
 "metadata": {
  "kernelspec": {
   "display_name": "Python 3",
   "language": "python",
   "name": "python3"
  },
  "language_info": {
   "codemirror_mode": {
    "name": "ipython",
    "version": 3
   },
   "file_extension": ".py",
   "mimetype": "text/x-python",
   "name": "python",
   "nbconvert_exporter": "python",
   "pygments_lexer": "ipython3",
   "version": "3.6.2"
  }
 },
 "nbformat": 4,
 "nbformat_minor": 2
}
